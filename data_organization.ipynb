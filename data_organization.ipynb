{
 "cells": [
  {
   "cell_type": "markdown",
   "id": "07612c39-b601-4221-ac2f-29e72f299dda",
   "metadata": {
    "jp-MarkdownHeadingCollapsed": true,
    "tags": []
   },
   "source": [
    "# Sanity check"
   ]
  },
  {
   "cell_type": "code",
   "execution_count": 3,
   "id": "0fb4b42a-9208-4075-bfaf-f89218d232a7",
   "metadata": {},
   "outputs": [
    {
     "name": "stdout",
     "output_type": "stream",
     "text": [
      "/home/amar/Desktop/projects/nfs_object_detection\n"
     ]
    }
   ],
   "source": [
    "!pwd"
   ]
  },
  {
   "cell_type": "code",
   "execution_count": 4,
   "id": "9f6a719c-8f1b-4c96-8be8-840ffbb49550",
   "metadata": {},
   "outputs": [
    {
     "name": "stdout",
     "output_type": "stream",
     "text": [
      "/home/amar/Desktop/projects/nfs_object_detection/env/bin/python\n"
     ]
    }
   ],
   "source": [
    "!which python"
   ]
  },
  {
   "cell_type": "markdown",
   "id": "e5bceb68-4f6a-4517-acd7-747130a077cf",
   "metadata": {
    "tags": []
   },
   "source": [
    "# Imports"
   ]
  },
  {
   "cell_type": "code",
   "execution_count": 1,
   "id": "ac182ef8-c376-40ad-8db5-181423e52755",
   "metadata": {},
   "outputs": [],
   "source": [
    "import os\n",
    "import cv2\n",
    "import numpy as np"
   ]
  },
  {
   "cell_type": "markdown",
   "id": "e40a6cae-7ceb-43d5-a0e3-8223578a7e9f",
   "metadata": {},
   "source": [
    "# Paths and files"
   ]
  },
  {
   "cell_type": "code",
   "execution_count": 2,
   "id": "fdb82eb4-f8dd-4cd0-bad5-779accf48c38",
   "metadata": {},
   "outputs": [],
   "source": [
    "paths = {\n",
    "    'raw_video': os.path.join(os.getcwd(),\n",
    "                              'data',\n",
    "                              'raw',\n",
    "                              'videos'),\n",
    "    'raw_image' : os.path.join(os.getcwd(),\n",
    "                               'data',\n",
    "                               'raw',\n",
    "                               'images'),\n",
    "    'processed_video': os.path.join(os.getcwd(),\n",
    "                              'data',\n",
    "                              'processed',\n",
    "                              'videos'),\n",
    "    'processed_image' : os.path.join(os.getcwd(),\n",
    "                               'data',\n",
    "                               'processed',\n",
    "                               'images')\n",
    "}"
   ]
  },
  {
   "cell_type": "markdown",
   "id": "b7e4bf13-5a35-42c3-bc23-4a1d9596b151",
   "metadata": {},
   "source": [
    "# Video to image"
   ]
  },
  {
   "cell_type": "code",
   "execution_count": null,
   "id": "0dbc9fed-94b0-4250-8714-01ef6682812c",
   "metadata": {},
   "outputs": [],
   "source": [
    "input_video_path = os.path.join(paths['raw_video'], 'video1.avi')\n",
    "output_image_dir = os.path.join(paths['raw_image'])"
   ]
  }
 ],
 "metadata": {
  "kernelspec": {
   "display_name": "Python 3.6.13 64-bit (conda)",
   "language": "python",
   "name": "python3613jvsc74a57bd0ddf28ce6e02ef0b40f6e4592c3b4467646ad97aa4f9566ae6b9a4218a73e0d91"
  },
  "language_info": {
   "codemirror_mode": {
    "name": "ipython",
    "version": 3
   },
   "file_extension": ".py",
   "mimetype": "text/x-python",
   "name": "python",
   "nbconvert_exporter": "python",
   "pygments_lexer": "ipython3",
   "version": "3.6.13"
  }
 },
 "nbformat": 4,
 "nbformat_minor": 5
}
