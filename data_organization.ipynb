{
 "cells": [
  {
   "cell_type": "markdown",
   "source": [
    "# Sanity check"
   ],
   "metadata": {
    "jp-MarkdownHeadingCollapsed": true,
    "tags": []
   }
  },
  {
   "cell_type": "code",
   "execution_count": 1,
   "source": [
    "!pwd"
   ],
   "outputs": [
    {
     "output_type": "stream",
     "name": "stdout",
     "text": [
      "/home/amar/Desktop/projects/nfs_object_detection\n"
     ]
    }
   ],
   "metadata": {}
  },
  {
   "cell_type": "code",
   "execution_count": 2,
   "source": [
    "! which python"
   ],
   "outputs": [
    {
     "output_type": "stream",
     "name": "stdout",
     "text": [
      "/home/amar/Desktop/projects/nfs_object_detection/env/bin/python\n"
     ]
    }
   ],
   "metadata": {}
  },
  {
   "cell_type": "markdown",
   "source": [
    "# Imports"
   ],
   "metadata": {
    "tags": []
   }
  },
  {
   "cell_type": "code",
   "execution_count": 1,
   "source": [
    "import os\n",
    "import cv2\n",
    "import numpy as np"
   ],
   "outputs": [],
   "metadata": {}
  },
  {
   "cell_type": "markdown",
   "source": [
    "# Paths and files"
   ],
   "metadata": {}
  },
  {
   "cell_type": "code",
   "execution_count": 2,
   "source": [
    "paths = {\n",
    "    'raw_video': os.path.join(os.getcwd(),\n",
    "                              'data',\n",
    "                              'raw',\n",
    "                              'videos'),\n",
    "    'raw_image' : os.path.join(os.getcwd(),\n",
    "                               'data',\n",
    "                               'raw',\n",
    "                               'images'),\n",
    "    'processed_video': os.path.join(os.getcwd(),\n",
    "                              'data',\n",
    "                              'processed',\n",
    "                              'videos'),\n",
    "    'processed_image' : os.path.join(os.getcwd(),\n",
    "                               'data',\n",
    "                               'processed',\n",
    "                               'images')\n",
    "}"
   ],
   "outputs": [],
   "metadata": {}
  },
  {
   "cell_type": "markdown",
   "source": [
    "# Video to image"
   ],
   "metadata": {}
  },
  {
   "cell_type": "code",
   "execution_count": 22,
   "source": [
    "input_video_path = os.path.join(paths['raw_video'], 'video3.avi')\n",
    "output_image_dir = os.path.join(paths['raw_image'])"
   ],
   "outputs": [],
   "metadata": {}
  },
  {
   "cell_type": "code",
   "execution_count": 23,
   "source": [
    "#* Save the frames needed in the set wanted_frames\n",
    "cap = cv2.VideoCapture(input_video_path)\n",
    "count = 0\n",
    "total_frames = cap.get(7)\n",
    "# print(total_frames)\n",
    "wanted_frames = set()\n",
    "try:\n",
    "   while True:\n",
    "      ret, frame = cap.read()\n",
    "      cv2.imshow('Input Video', frame)\n",
    "      if cv2.waitKey(0) == ord('k'):\n",
    "         wanted_frames.add(count)\n",
    "      elif cv2.waitKey(0) == ord('q'):\n",
    "         break\n",
    "      count += 1\n",
    "except:\n",
    "   # print(count)\n",
    "   print('Video not read, exiting..')\n",
    "\n",
    "cv2.destroyAllWindows()\n",
    "cap.release()\n",
    "# print('wanted_frames:', wanted_frames)\n"
   ],
   "outputs": [
    {
     "output_type": "stream",
     "name": "stdout",
     "text": [
      "Video not read, exiting..\n"
     ]
    }
   ],
   "metadata": {}
  },
  {
   "cell_type": "code",
   "execution_count": 33,
   "source": [
    "print(len(wanted_frames))"
   ],
   "outputs": [
    {
     "output_type": "stream",
     "name": "stdout",
     "text": [
      "8412\n"
     ]
    }
   ],
   "metadata": {}
  },
  {
   "cell_type": "code",
   "execution_count": 32,
   "source": [
    "#* Save every 20th frame from the wanted_frames set\n",
    "cap = cv2.VideoCapture(input_video_path)\n",
    "count = 0\n",
    "kept = 0\n",
    "try:\n",
    "    while True:\n",
    "        ret, frame = cap.read()\n",
    "        cv2.imshow('Input Video', frame)\n",
    "        if count in wanted_frames:\n",
    "            kept += 1\n",
    "            if kept % 20 == 0:\n",
    "                cv2.imwrite(os.path.join(output_image_dir, str(count) + '.jpg'), frame)\n",
    "        if cv2.waitKey(10) == ord('q'):\n",
    "            break\n",
    "        count += 1\n",
    "except Exception as e:\n",
    "    cv2.destroyAllWindows()\n",
    "    print(e)"
   ],
   "outputs": [],
   "metadata": {}
  }
 ],
 "metadata": {
  "kernelspec": {
   "name": "python3",
   "display_name": "Python 3.6.13 64-bit (conda)"
  },
  "language_info": {
   "name": "python",
   "version": "3.6.13",
   "mimetype": "text/x-python",
   "codemirror_mode": {
    "name": "ipython",
    "version": 3
   },
   "pygments_lexer": "ipython3",
   "nbconvert_exporter": "python",
   "file_extension": ".py"
  },
  "interpreter": {
   "hash": "514b12dd9e895721febb44556d1c6e815f8bc4476ace6b94922a62cfbe60c967"
  }
 },
 "nbformat": 4,
 "nbformat_minor": 5
}