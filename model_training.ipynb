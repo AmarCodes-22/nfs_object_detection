{
    "cells": [
        {
            "cell_type": "markdown",
            "source": [
                "# imports"
            ],
            "metadata": {}
        },
        {
            "cell_type": "code",
            "execution_count": 1,
            "source": [
                "import tensorflow as tf"
            ],
            "outputs": [],
            "metadata": {}
        },
        {
            "cell_type": "markdown",
            "source": [
                "# Load models"
            ],
            "metadata": {}
        },
        {
            "cell_type": "code",
            "execution_count": 6,
            "source": [
                "#* Model comes from conversion by the convert.py file.\n",
                "yolov3_tiny = tf.keras.models.load_model('models/yolov3-tiny.h5')\n",
                "yolov3_320 = tf.keras.models.load_model('models/yolov3-320.h5')\n"
            ],
            "outputs": [
                {
                    "output_type": "stream",
                    "name": "stdout",
                    "text": [
                        "WARNING:tensorflow:No training configuration found in the save file, so the model was *not* compiled. Compile it manually.\n",
                        "WARNING:tensorflow:No training configuration found in the save file, so the model was *not* compiled. Compile it manually.\n"
                    ]
                }
            ],
            "metadata": {}
        },
        {
            "cell_type": "code",
            "execution_count": 8,
            "source": [
                "yolov3_tiny_layers = yolov3_tiny.layers\n",
                "yolov3_320_layers = yolov3_320.layers\n",
                "print('yolov3_tiny has {} layers'.format(len(yolov3_tiny_layers)))\n",
                "print('yolov3_320 has {} layers.'.format(len(yolov3_320_layers)))"
            ],
            "outputs": [
                {
                    "output_type": "stream",
                    "name": "stdout",
                    "text": [
                        "yolov3_tiny has 44 layers\n",
                        "yolov3_320 has 252 layers.\n"
                    ]
                }
            ],
            "metadata": {}
        },
        {
            "cell_type": "code",
            "execution_count": null,
            "source": [],
            "outputs": [],
            "metadata": {}
        }
    ],
    "metadata": {
        "orig_nbformat": 4,
        "language_info": {
            "name": "python",
            "version": "3.6.13",
            "mimetype": "text/x-python",
            "codemirror_mode": {
                "name": "ipython",
                "version": 3
            },
            "pygments_lexer": "ipython3",
            "nbconvert_exporter": "python",
            "file_extension": ".py"
        },
        "kernelspec": {
            "name": "python3",
            "display_name": "Python 3.6.13 64-bit (conda)"
        },
        "interpreter": {
            "hash": "514b12dd9e895721febb44556d1c6e815f8bc4476ace6b94922a62cfbe60c967"
        }
    },
    "nbformat": 4,
    "nbformat_minor": 2
}